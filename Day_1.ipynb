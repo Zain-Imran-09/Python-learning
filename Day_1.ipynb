{
 "cells": [
  {
   "cell_type": "code",
   "execution_count": 1,
   "id": "ad11046a",
   "metadata": {},
   "outputs": [
    {
     "name": "stdout",
     "output_type": "stream",
     "text": [
      "Hello world\n"
     ]
    }
   ],
   "source": [
    "print('Hello world')"
   ]
  },
  {
   "cell_type": "code",
   "execution_count": 12,
   "id": "870f7633",
   "metadata": {},
   "outputs": [
    {
     "name": "stdout",
     "output_type": "stream",
     "text": [
      "Zayn Imran\n"
     ]
    }
   ],
   "source": [
    "my_name= 'Zayn'\n",
    "print(my_name + ' ' + 'Imran')"
   ]
  },
  {
   "cell_type": "code",
   "execution_count": 15,
   "id": "98b5e840",
   "metadata": {},
   "outputs": [
    {
     "name": "stdout",
     "output_type": "stream",
     "text": [
      "My age is 21\n"
     ]
    }
   ],
   "source": [
    "MyAge = 21\n",
    "print('My age is ' + str(MyAge)) # In Python, the print function can only concatenate (join) strings together using the + operator. If you try to concatenate a string with an integer (like MyAge), Python will give you a TypeError."
   ]
  },
  {
   "cell_type": "code",
   "execution_count": 16,
   "id": "365bb13f",
   "metadata": {},
   "outputs": [
    {
     "name": "stdout",
     "output_type": "stream",
     "text": [
      "I am 21 years old\n"
     ]
    }
   ],
   "source": [
    "print('I am ' + str(MyAge) + ' years old')"
   ]
  },
  {
   "cell_type": "code",
   "execution_count": 17,
   "id": "504e6c97",
   "metadata": {},
   "outputs": [
    {
     "name": "stdout",
     "output_type": "stream",
     "text": [
      "Zayn is 21 years old\n"
     ]
    }
   ],
   "source": [
    "print(my_name + ' is ' + str(MyAge) + ' years old')"
   ]
  },
  {
   "cell_type": "code",
   "execution_count": 18,
   "id": "a3e78236",
   "metadata": {},
   "outputs": [
    {
     "name": "stdout",
     "output_type": "stream",
     "text": [
      "Your information is: zain imran 21\n"
     ]
    }
   ],
   "source": [
    "My_information = input('Enter your name and age: ')\n",
    "print('Your information is: ' + My_information)"
   ]
  },
  {
   "cell_type": "code",
   "execution_count": 19,
   "id": "939cef8f",
   "metadata": {},
   "outputs": [
    {
     "name": "stdout",
     "output_type": "stream",
     "text": [
      "zain imran 21 is 21 years old\n"
     ]
    }
   ],
   "source": [
    "print( My_information + ' is ' + str(MyAge) + ' years old')"
   ]
  },
  {
   "cell_type": "code",
   "execution_count": null,
   "id": "d2a6abd2",
   "metadata": {},
   "outputs": [
    {
     "name": "stdout",
     "output_type": "stream",
     "text": [
      "23\n"
     ]
    }
   ],
   "source": [
    "old_age = input(\"Enter your age : \") \n",
    "new_age = int(old_age) + 2  # without int it shows error In Python, the input() function always returns a string, even if you type a number. So, old_age is a string, not a number.\n",
    "print(new_age) "
   ]
  },
  {
   "cell_type": "code",
   "execution_count": 24,
   "id": "dd5e8bf1",
   "metadata": {},
   "outputs": [
    {
     "name": "stdout",
     "output_type": "stream",
     "text": [
      "My age is 21\n"
     ]
    }
   ],
   "source": [
    "print(\"My age is\", MyAge)"
   ]
  },
  {
   "cell_type": "code",
   "execution_count": 25,
   "id": "1fcc19f5",
   "metadata": {},
   "outputs": [
    {
     "name": "stdout",
     "output_type": "stream",
     "text": [
      "My age is 21\n",
      "My age is 21\n"
     ]
    }
   ],
   "source": [
    "age = 21\n",
    "print(\"My age is \" + str(age))  # Uses +, must convert age to string\n",
    "print(\"My age is\", age)         # Uses comma, no conversion needed"
   ]
  },
  {
   "cell_type": "code",
   "execution_count": 27,
   "id": "bc711692",
   "metadata": {},
   "outputs": [
    {
     "name": "stdout",
     "output_type": "stream",
     "text": [
      "21\n"
     ]
    }
   ],
   "source": [
    "new_one = input(\"Enter a number: \")\n",
    "print(new_one)"
   ]
  },
  {
   "cell_type": "code",
   "execution_count": null,
   "id": "8e7f6f66",
   "metadata": {},
   "outputs": [],
   "source": []
  }
 ],
 "metadata": {
  "kernelspec": {
   "display_name": "myenv",
   "language": "python",
   "name": "python3"
  },
  "language_info": {
   "codemirror_mode": {
    "name": "ipython",
    "version": 3
   },
   "file_extension": ".py",
   "mimetype": "text/x-python",
   "name": "python",
   "nbconvert_exporter": "python",
   "pygments_lexer": "ipython3",
   "version": "3.10.18"
  }
 },
 "nbformat": 4,
 "nbformat_minor": 5
}
