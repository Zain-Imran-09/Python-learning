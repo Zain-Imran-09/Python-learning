{
 "cells": [
  {
   "cell_type": "markdown",
   "id": "fd63686e",
   "metadata": {},
   "source": [
    "# **First Code**"
   ]
  },
  {
   "cell_type": "code",
   "execution_count": 1,
   "id": "ad11046a",
   "metadata": {},
   "outputs": [
    {
     "name": "stdout",
     "output_type": "stream",
     "text": [
      "Hello world\n"
     ]
    }
   ],
   "source": [
    "print('Hello world')"
   ]
  },
  {
   "cell_type": "markdown",
   "id": "84c25285",
   "metadata": {},
   "source": [
    "# **Variables**"
   ]
  },
  {
   "cell_type": "code",
   "execution_count": 12,
   "id": "870f7633",
   "metadata": {},
   "outputs": [
    {
     "name": "stdout",
     "output_type": "stream",
     "text": [
      "Zayn Imran\n"
     ]
    }
   ],
   "source": [
    "my_name= 'Zayn'\n",
    "print(my_name + ' ' + 'Imran')"
   ]
  },
  {
   "cell_type": "code",
   "execution_count": null,
   "id": "98b5e840",
   "metadata": {},
   "outputs": [
    {
     "name": "stdout",
     "output_type": "stream",
     "text": [
      "My age is 21\n"
     ]
    }
   ],
   "source": [
    "MyAge = 21\n",
    "print('My age is ' + str(MyAge)) # In Python, the print function can only concatenate (join) strings together using the + operator. \n",
    "# If you try to concatenate a string with an integer (like MyAge), Python will give you a TypeError."
   ]
  },
  {
   "cell_type": "code",
   "execution_count": 16,
   "id": "365bb13f",
   "metadata": {},
   "outputs": [
    {
     "name": "stdout",
     "output_type": "stream",
     "text": [
      "I am 21 years old\n"
     ]
    }
   ],
   "source": [
    "print('I am ' + str(MyAge) + ' years old')"
   ]
  },
  {
   "cell_type": "code",
   "execution_count": 17,
   "id": "504e6c97",
   "metadata": {},
   "outputs": [
    {
     "name": "stdout",
     "output_type": "stream",
     "text": [
      "Zayn is 21 years old\n"
     ]
    }
   ],
   "source": [
    "print(my_name + ' is ' + str(MyAge) + ' years old')"
   ]
  },
  {
   "cell_type": "code",
   "execution_count": 18,
   "id": "a3e78236",
   "metadata": {},
   "outputs": [
    {
     "name": "stdout",
     "output_type": "stream",
     "text": [
      "Your information is: zain imran 21\n"
     ]
    }
   ],
   "source": [
    "My_information = input('Enter your name and age: ')\n",
    "print('Your information is: ' + My_information)"
   ]
  },
  {
   "cell_type": "code",
   "execution_count": 19,
   "id": "939cef8f",
   "metadata": {},
   "outputs": [
    {
     "name": "stdout",
     "output_type": "stream",
     "text": [
      "zain imran 21 is 21 years old\n"
     ]
    }
   ],
   "source": [
    "print( My_information + ' is ' + str(MyAge) + ' years old')"
   ]
  },
  {
   "cell_type": "code",
   "execution_count": 23,
   "id": "d2a6abd2",
   "metadata": {},
   "outputs": [
    {
     "name": "stdout",
     "output_type": "stream",
     "text": [
      "23\n"
     ]
    }
   ],
   "source": [
    "old_age = input(\"Enter your age : \") \n",
    "new_age = int(old_age) + 2  # without int it shows error In Python, the input() function always returns a string, even if you type a number. So, old_age is a string, not a number.\n",
    "print(new_age) "
   ]
  },
  {
   "cell_type": "code",
   "execution_count": 24,
   "id": "dd5e8bf1",
   "metadata": {},
   "outputs": [
    {
     "name": "stdout",
     "output_type": "stream",
     "text": [
      "My age is 21\n"
     ]
    }
   ],
   "source": [
    "print(\"My age is\", MyAge)"
   ]
  },
  {
   "cell_type": "code",
   "execution_count": 25,
   "id": "1fcc19f5",
   "metadata": {},
   "outputs": [
    {
     "name": "stdout",
     "output_type": "stream",
     "text": [
      "My age is 21\n",
      "My age is 21\n"
     ]
    }
   ],
   "source": [
    "age = 21\n",
    "print(\"My age is \" + str(age))  # Uses +, must convert age to string\n",
    "print(\"My age is\", age)         # Uses comma, no conversion needed"
   ]
  },
  {
   "cell_type": "code",
   "execution_count": 27,
   "id": "bc711692",
   "metadata": {},
   "outputs": [
    {
     "name": "stdout",
     "output_type": "stream",
     "text": [
      "21\n"
     ]
    }
   ],
   "source": [
    "new_one = input(\"Enter a number: \")\n",
    "print(new_one)"
   ]
  },
  {
   "cell_type": "code",
   "execution_count": 28,
   "id": "8e7f6f66",
   "metadata": {},
   "outputs": [
    {
     "name": "stdout",
     "output_type": "stream",
     "text": [
      "<class 'str'>\n"
     ]
    }
   ],
   "source": [
    "My_data = \"I love programming\"\n",
    "print(type(My_data))  # This will show <class 'str'>"
   ]
  },
  {
   "cell_type": "code",
   "execution_count": 29,
   "id": "d624d0c2",
   "metadata": {},
   "outputs": [
    {
     "data": {
      "text/plain": [
       "18"
      ]
     },
     "execution_count": 29,
     "metadata": {},
     "output_type": "execute_result"
    }
   ],
   "source": [
    "len(My_data)  # This will return the length of the string"
   ]
  },
  {
   "cell_type": "code",
   "execution_count": 30,
   "id": "407ac548",
   "metadata": {},
   "outputs": [
    {
     "name": "stdout",
     "output_type": "stream",
     "text": [
      "I love Python\n"
     ]
    }
   ],
   "source": [
    "print(My_data.replace(\"programming\", \"Python\"))  # This will replace \"programming\" with \"Python\" in the string"
   ]
  },
  {
   "cell_type": "code",
   "execution_count": 31,
   "id": "473f0382",
   "metadata": {},
   "outputs": [],
   "source": [
    "# Also we can find any letter from string and also we can find index of any letter from string."
   ]
  },
  {
   "cell_type": "markdown",
   "id": "2e944ea1",
   "metadata": {},
   "source": [
    "# Operators in Python\n",
    "1. Arithmetic Operators: +, -, *, /, %, **, //\n",
    "2. Comparison Operators: ==, !=, >, <, >=, <=\n",
    "3. Logical Operators: and, or, not\n",
    "4. Assignment Operators: =, +=, -=, *=, /=, %=, **=, //=\n",
    "5. Membership Operators: in, not in\n",
    "6. Identity Operators: is, is not\n",
    "7. Bitwise Operators: &, |, ^, ~, <<, >>\n"
   ]
  },
  {
   "cell_type": "code",
   "execution_count": 33,
   "id": "68c22bdf",
   "metadata": {},
   "outputs": [
    {
     "name": "stdout",
     "output_type": "stream",
     "text": [
      "30\n",
      "-10\n",
      "200\n",
      "2.0\n",
      "0\n",
      "100\n",
      "2\n"
     ]
    }
   ],
   "source": [
    "a = 10\n",
    "b = 20\n",
    "print(a + b)  # Addition\n",
    "print(a - b)  # Subtraction\n",
    "print(a * b)  # Multiplication\n",
    "print(b / a)  # Division\n",
    "print(b % a)  # Modulus (remainder)\n",
    "print(a ** 2) # Exponentiation (10^2)\n",
    "print(b // a) # Floor Division (quotient without remainder)"
   ]
  },
  {
   "cell_type": "code",
   "execution_count": 34,
   "id": "f904ecb6",
   "metadata": {},
   "outputs": [
    {
     "name": "stdout",
     "output_type": "stream",
     "text": [
      "False\n",
      "True\n",
      "False\n",
      "True\n",
      "False\n",
      "True\n"
     ]
    }
   ],
   "source": [
    "print(a==b)  # Equal to\n",
    "print(a!=b)  # Not equal to\n",
    "print(a>b)   # Greater than\n",
    "print(a<b)   # Less than\n",
    "print(a>=b)  # Greater than or equal to\n",
    "print(a<=b)  # Less than or equal to\n"
   ]
  },
  {
   "cell_type": "code",
   "execution_count": 37,
   "id": "d9fcc50b",
   "metadata": {},
   "outputs": [
    {
     "name": "stdout",
     "output_type": "stream",
     "text": [
      "False\n",
      "True\n",
      "False\n"
     ]
    }
   ],
   "source": [
    "print(a>b and b<a)  # Logical AND (both must be true)\n",
    "print(b>a or a<b)   # Logical OR (at least one must be true)\n",
    "print(not a)    # Logical NOT (inverts the truth value)"
   ]
  },
  {
   "cell_type": "code",
   "execution_count": 41,
   "id": "c4887738",
   "metadata": {},
   "outputs": [],
   "source": [
    "a += 3 # Equivalent to a = a + 3\n",
    "b -= 5  # Equivalent to b = b - 5\n",
    "b *= 2  # Equivalent to b = b * 2\n",
    "a /= 2  # Equivalent to a = a / 2\n",
    "a = int(a)  # Convert a to int for bitwise operations\n",
    "a &= 2  # Equivalent to a = a & 2 (bitwise AND)\n",
    "a >>= 2  # Equivalent to a = a >> 2 (bitwise right shift)\n",
    "b <<= 2  # Equivalent to b = b << 2 (bitwise left shift)\n"
   ]
  },
  {
   "cell_type": "code",
   "execution_count": 43,
   "id": "917b0908",
   "metadata": {},
   "outputs": [
    {
     "name": "stdout",
     "output_type": "stream",
     "text": [
      "a: 0\n",
      "b: 1560\n"
     ]
    }
   ],
   "source": [
    "# The values of a and b are the result of the operations in cell 19.\n",
    "# Let's print the intermediate results to see how a and b become 0 and 1560.\n",
    "\n",
    "# Reset initial values\n",
    "a = 10\n",
    "b = 20\n",
    "\n",
    "a += 3      # a = 13\n",
    "b -= 5      # b = 15\n",
    "b *= 2      # b = 30\n",
    "a /= 2      # a = 6.5\n",
    "a = int(a)  # a = 6\n",
    "a &= 2      # a = 6 & 2 = 2 (bitwise AND)\n",
    "a >>= 2     # a = 2 >> 2 = 0 (bitwise right shift)\n",
    "b <<= 2     # b = 30 << 2 = 120\n",
    "b *= 13     # b = 120 * 13 = 1560 (this step is not in the original code, but b becomes 1560 after cell 19)\n",
    "\n",
    "print(\"a:\", a)\n",
    "print(\"b:\", b)"
   ]
  },
  {
   "cell_type": "code",
   "execution_count": 42,
   "id": "996f91ce",
   "metadata": {},
   "outputs": [
    {
     "name": "stdout",
     "output_type": "stream",
     "text": [
      "0\n",
      "1560\n"
     ]
    }
   ],
   "source": [
    "print(a)\n",
    "print(b)"
   ]
  },
  {
   "cell_type": "code",
   "execution_count": 44,
   "id": "fc97818d",
   "metadata": {},
   "outputs": [
    {
     "name": "stdout",
     "output_type": "stream",
     "text": [
      "True\n",
      "True\n"
     ]
    }
   ],
   "source": [
    "print('p' in 'python')  # True, 'p' is in 'python'\n",
    "print (a is not b)  # True, a (0) is not b (1560)\n"
   ]
  },
  {
   "cell_type": "code",
   "execution_count": 45,
   "id": "6b698195",
   "metadata": {},
   "outputs": [
    {
     "name": "stdout",
     "output_type": "stream",
     "text": [
      "0\n"
     ]
    }
   ],
   "source": [
    "print(a & b)  # Bitwise AND"
   ]
  },
  {
   "cell_type": "code",
   "execution_count": 46,
   "id": "ef09e581",
   "metadata": {},
   "outputs": [
    {
     "data": {
      "text/plain": [
       "0"
      ]
     },
     "execution_count": 46,
     "metadata": {},
     "output_type": "execute_result"
    }
   ],
   "source": [
    "a"
   ]
  },
  {
   "cell_type": "code",
   "execution_count": 47,
   "id": "90390d5a",
   "metadata": {},
   "outputs": [
    {
     "data": {
      "text/plain": [
       "1560"
      ]
     },
     "execution_count": 47,
     "metadata": {},
     "output_type": "execute_result"
    }
   ],
   "source": [
    "b"
   ]
  },
  {
   "cell_type": "code",
   "execution_count": 49,
   "id": "a3e46ec3",
   "metadata": {},
   "outputs": [
    {
     "data": {
      "text/plain": [
       "1560"
      ]
     },
     "execution_count": 49,
     "metadata": {},
     "output_type": "execute_result"
    }
   ],
   "source": [
    "a | b      # Bitwise OR\n",
    "b ^ b      # Bitwise XOR (b XOR b is always 0)\n",
    "~b         # Bitwise NOT (inverts all bits of b)\n",
    "a >> b     # Bitwise right shift (shifts bits of a to the right by b positions)\n",
    "b << a     # Bitwise left shift (shifts bits of b to the left by a positions)"
   ]
  },
  {
   "cell_type": "markdown",
   "id": "aa8049bd",
   "metadata": {},
   "source": [
    "# **Loops: are used to repeat a block of code multiple times until a certain condition is met.**\n",
    "## THERE ARE TWO TYPES OF LOOPS IN PYTHON\n",
    "1. for loop\n",
    "2. while loop"
   ]
  },
  {
   "cell_type": "code",
   "execution_count": 8,
   "id": "d25fc774",
   "metadata": {},
   "outputs": [
    {
     "name": "stdout",
     "output_type": "stream",
     "text": [
      "1\n",
      "2\n",
      "3\n",
      "4\n",
      "5\n"
     ]
    }
   ],
   "source": [
    "loop = [1,2,3,4,5]\n",
    "for item in loop:\n",
    "    print(item)"
   ]
  },
  {
   "cell_type": "code",
   "execution_count": null,
   "id": "c390f69f",
   "metadata": {},
   "outputs": [
    {
     "name": "stdout",
     "output_type": "stream",
     "text": [
      "Index: 0, Item: 1\n",
      "Index: 1, Item: 2\n",
      "Index: 2, Item: 3\n",
      "Index: 3, Item: 4\n",
      "Index: 4, Item: 5\n"
     ]
    }
   ],
   "source": [
    "for index, item in enumerate(loop):  # enumerate() gives both index and item\n",
    "    print(f'Index: {index}, Item: {item}')  # f-string for formatted output"
   ]
  },
  {
   "cell_type": "code",
   "execution_count": 4,
   "id": "b6bf6296",
   "metadata": {},
   "outputs": [
    {
     "name": "stdout",
     "output_type": "stream",
     "text": [
      "Key: name, Value: Zayn\n",
      "Key: age, Value: 21\n",
      "Key: city, Value: Karachi\n"
     ]
    }
   ],
   "source": [
    "Dict = {'name': 'Zayn', 'age': 21, 'city': 'Karachi'}\n",
    "for key, value in Dict.items():  # .items() gives both key and value\n",
    "    print(f'Key: {key}, Value: {value}')  # f-string for formatted output"
   ]
  },
  {
   "cell_type": "code",
   "execution_count": 5,
   "id": "06ce0992",
   "metadata": {},
   "outputs": [
    {
     "name": "stdout",
     "output_type": "stream",
     "text": [
      "Key: name, Value: Zayn\n",
      "Key: age, Value: 21\n",
      "Key: city, Value: Karachi\n"
     ]
    }
   ],
   "source": [
    "for key in Dict:  # Iterates over keys by default\n",
    "    print(f'Key: {key}, Value: {Dict[key]}')  # Access value using key"
   ]
  },
  {
   "cell_type": "code",
   "execution_count": null,
   "id": "9f962c95",
   "metadata": {},
   "outputs": [
    {
     "name": "stdout",
     "output_type": "stream",
     "text": [
      "20\n",
      "19\n",
      "18\n",
      "17\n",
      "16\n",
      "15\n",
      "14\n",
      "13\n",
      "12\n",
      "11\n",
      "10\n",
      "9\n",
      "8\n",
      "7\n",
      "6\n",
      "5\n",
      "4\n",
      "3\n",
      "2\n",
      "1\n"
     ]
    }
   ],
   "source": [
    "i=20    # do not use while True: it will create infinite loop \n",
    "while i > 0:\n",
    "    print(i)\n",
    "    i -= 1  # Decrement i by 1 to avoid infinite loop"
   ]
  },
  {
   "cell_type": "code",
   "execution_count": null,
   "id": "85a94ac1",
   "metadata": {},
   "outputs": [
    {
     "name": "stdout",
     "output_type": "stream",
     "text": [
      "0\n",
      "0\n",
      "1\n",
      "1\n",
      "2\n",
      "2\n",
      "3\n",
      "3\n",
      "4\n",
      "4\n",
      "5\n",
      "5\n",
      "6\n",
      "6\n",
      "7\n",
      "7\n",
      "8\n",
      "8\n",
      "9\n",
      "9\n",
      "Skipping 10\n",
      "11\n",
      "11\n",
      "12\n"
     ]
    }
   ],
   "source": [
    "# Use while loop when we want to stisfy a condition, for example, counting down from 20 to 1. Doing a same thing until a condition is met.\n",
    "for i in range(15):\n",
    "    if i == 10:\n",
    "        print(\"Skipping 10\")\n",
    "        continue # Skip the rest of the loop when i is 10\n",
    "    print(i) \n",
    "    if i == 12:\n",
    "        break  # Exit the loop when i is 12\n",
    "    print(i)\n",
    "else:\n",
    "    print(\"This will not print when i is 12\")"
   ]
  },
  {
   "cell_type": "code",
   "execution_count": null,
   "id": "5eff0fa2",
   "metadata": {},
   "outputs": [
    {
     "name": "stdout",
     "output_type": "stream",
     "text": [
      "Element: 1\n",
      "Element: 2\n",
      "Element: 3\n",
      "Element: 4\n",
      "Element: 5\n",
      "Count: 1\n",
      "Count: 2\n",
      "Count: 3\n",
      "Count: 4\n",
      "Count: 5\n",
      "name: Zayn\n",
      "age: 21\n",
      "city: Karachi\n",
      "Even number: 2\n",
      "Even number: 4\n",
      "Even number: 6\n",
      "Even number: 8\n",
      "Even number: 10\n"
     ]
    }
   ],
   "source": [
    "# Practice: Print all elements in the 'loop' list using a for loop\n",
    "for num in loop:\n",
    "    print(\"Element:\", num)\n",
    "\n",
    "# Practice: Print numbers from 1 to 5 using a while loop\n",
    "count = 1\n",
    "while count <= 5:\n",
    "    print(\"Count:\", count)\n",
    "    count += 1\n",
    "\n",
    "# Practice: Iterate over the Dict and print keys and values\n",
    "for k, v in Dict.items():\n",
    "    print(f\"{k}: {v}\")\n",
    "\n",
    "# Practice: Use range to print even numbers from 2 to 10\n",
    "for n in range(2, 11, 2): # step of 2 to get even numbers\n",
    "    print(\"Even number:\", n)"
   ]
  },
  {
   "cell_type": "code",
   "execution_count": null,
   "id": "112fe6c9",
   "metadata": {},
   "outputs": [],
   "source": [
    "# Collections in Python, We have already talk about the data types Now if we want to store multiple items in a single variable, we use collections. \n",
    "# Instead of making multiple variables to store multiple items, we can use collections.\n",
    "# 1. List: ordered, changeable, allows duplicate members.[]\n",
    "# 2. Tuple: ordered, unchangeable, allows duplicate members.()\n",
    "# 3. Set: unordered, changeable, no duplicate members.{}\n",
    "# 4. Dictionary: unordered, changeable, allows duplicate members.{key: value}"
   ]
  },
  {
   "cell_type": "code",
   "execution_count": 2,
   "id": "4b1fc9f0",
   "metadata": {},
   "outputs": [
    {
     "name": "stdout",
     "output_type": "stream",
     "text": [
      "['task1', 'task2', 'task3', 'task4', 'task5']\n"
     ]
    }
   ],
   "source": [
    "# List: Use when order matters, you need to modify the collection, great for storing sequences of items, and when you may have duplicate values.\n",
    "tasks= ['task1', 'task2', 'task3', 'task4', 'task5']\n",
    "print(tasks)"
   ]
  },
  {
   "cell_type": "code",
   "execution_count": 3,
   "id": "f66de85a",
   "metadata": {},
   "outputs": [
    {
     "name": "stdout",
     "output_type": "stream",
     "text": [
      "['task1', 'task2', 'task3', 'task4', 'task5', 'task6']\n"
     ]
    }
   ],
   "source": [
    "tasks.append('task6')  # Add a new task to the end of the list\n",
    "print(tasks)"
   ]
  },
  {
   "cell_type": "code",
   "execution_count": 4,
   "id": "1360f85f",
   "metadata": {},
   "outputs": [
    {
     "name": "stdout",
     "output_type": "stream",
     "text": [
      "['task1', 'task3', 'task4', 'task5', 'task6']\n"
     ]
    }
   ],
   "source": [
    "tasks.remove('task2')  # Remove 'task2' from the list\n",
    "print(tasks)"
   ]
  },
  {
   "cell_type": "code",
   "execution_count": 13,
   "id": "c644a1fd",
   "metadata": {},
   "outputs": [
    {
     "name": "stdout",
     "output_type": "stream",
     "text": [
      "['task1', 'task3', 'task4', 'task5', 'task6', 'task6', 'task 9', 'task 9']\n",
      "['updated task1', 'task3', 'task4', 'task5', 'task6', 'task6', 'task 9', 'task 9']\n"
     ]
    }
   ],
   "source": [
    "tasks.append('task 9')  # Add a new task to the end of the list\n",
    "print(tasks)\n",
    "tasks[0]= 'updated task1'  # Update the first task\n",
    "print(tasks)"
   ]
  },
  {
   "cell_type": "code",
   "execution_count": 19,
   "id": "87a42897",
   "metadata": {},
   "outputs": [
    {
     "name": "stdout",
     "output_type": "stream",
     "text": [
      "['updated task1', 'task1.5', 'task1.5', 'task3', 'task4', 'task5', 'task6', 'task6', 'task 9']\n",
      "['updated task1', 'task1.5', 'task3', 'task4', 'task5', 'task6', 'task6', 'task 9']\n"
     ]
    }
   ],
   "source": [
    "# insert(i, x) → add item at position i\n",
    "tasks.insert(1, 'task1.5')  # Insert 'task1.5' at index 1\n",
    "print(tasks)\n",
    "# pop(i) → remove by index (last by default)\n",
    "tasks.pop(1)\n",
    "print(tasks)"
   ]
  },
  {
   "cell_type": "code",
   "execution_count": 10,
   "id": "3bedc67a",
   "metadata": {},
   "outputs": [
    {
     "name": "stdout",
     "output_type": "stream",
     "text": [
      "(31.582045, 74.329376)\n"
     ]
    }
   ],
   "source": [
    "# Tuple: Use when order matters, but you want to ensure the collection remains unchanged, great for fixed collections of items, and when you may have duplicate values.\n",
    "location = (31.582045, 74.329376)  # Lahore coordinates\n",
    "# won’t change, so tuple is safer than list\n",
    "print(location)"
   ]
  },
  {
   "cell_type": "code",
   "execution_count": 12,
   "id": "2b8e4d28",
   "metadata": {},
   "outputs": [
    {
     "ename": "TypeError",
     "evalue": "'tuple' object does not support item assignment",
     "output_type": "error",
     "traceback": [
      "\u001b[1;31m---------------------------------------------------------------------------\u001b[0m",
      "\u001b[1;31mTypeError\u001b[0m                                 Traceback (most recent call last)",
      "Cell \u001b[1;32mIn[12], line 2\u001b[0m\n\u001b[0;32m      1\u001b[0m \u001b[38;5;66;03m# If you try to change a tuple, you'll get an error\u001b[39;00m\n\u001b[1;32m----> 2\u001b[0m \u001b[43mlocation\u001b[49m\u001b[43m[\u001b[49m\u001b[38;5;241;43m0\u001b[39;49m\u001b[43m]\u001b[49m \u001b[38;5;241m=\u001b[39m \u001b[38;5;241m32.0\u001b[39m  \u001b[38;5;66;03m# This will raise a TypeError\u001b[39;00m\n\u001b[0;32m      3\u001b[0m \u001b[38;5;28mprint\u001b[39m(location[\u001b[38;5;241m0\u001b[39m])  \u001b[38;5;66;03m# Accessing elements in a tuple works like a list\u001b[39;00m\n",
      "\u001b[1;31mTypeError\u001b[0m: 'tuple' object does not support item assignment"
     ]
    }
   ],
   "source": [
    "# If you try to change a tuple, you'll get an error\n",
    "location[0] = 32.0  # This will raise a TypeError\n",
    "print(location[0])  # Accessing elements in a tuple works like a list"
   ]
  },
  {
   "cell_type": "code",
   "execution_count": 14,
   "id": "48baa1da",
   "metadata": {},
   "outputs": [
    {
     "name": "stdout",
     "output_type": "stream",
     "text": [
      "{1, 2, 3, 4, 5}\n",
      "{1, 2, 3, 4, 5, 6}\n",
      "{1, 2, 3, 4, 5, 6}\n"
     ]
    }
   ],
   "source": [
    "# set: Use when order doesn't matter, you want to ensure all items are unique, great for membership testing and eliminating duplicates.\n",
    "my_set = {1, 2, 3, 4, 5}\n",
    "print(my_set)\n",
    "my_set.add(6)  # Add an element to the set\n",
    "print(my_set)\n",
    "my_set.add(3)  # Adding a duplicate element (3) will have no effect\n",
    "print(my_set)\n"
   ]
  },
  {
   "cell_type": "code",
   "execution_count": 17,
   "id": "6cf46e7c",
   "metadata": {},
   "outputs": [
    {
     "name": "stdout",
     "output_type": "stream",
     "text": [
      "{1, 2, 3, 4, 5, 6, 7}\n",
      "{1, 2, 3, 4, 5, 6, 7, 8, 9, 10}\n",
      "{1, 3, 4, 5, 6, 7, 8, 9, 10}\n",
      "{1, 4, 5, 6, 7, 8, 9, 10}\n",
      "{4, 5, 6, 7, 8, 9, 10}\n"
     ]
    }
   ],
   "source": [
    "# add(x) → add one item\n",
    "my_set.add(7)\n",
    "print(my_set)\n",
    "# update([x, y]) → add multiple items\n",
    "my_set.update([8, 9, 10])\n",
    "print(my_set)\n",
    "# remove(x) → remove item (❌ error if not found)\n",
    "my_set.remove(2)\n",
    "print(my_set)\n",
    "# discard(x) → remove item (no error if not found)\n",
    "my_set.discard(3)\n",
    "print(my_set)\n",
    "# pop() → removes a random item\n",
    "my_set.pop()\n",
    "print(my_set)"
   ]
  },
  {
   "cell_type": "code",
   "execution_count": 15,
   "id": "f512d5f6",
   "metadata": {},
   "outputs": [
    {
     "name": "stdout",
     "output_type": "stream",
     "text": [
      "{'name': 'Alice', 'age': 30, 'city': 'New York'}\n"
     ]
    }
   ],
   "source": [
    "# Dictionary: Use when you need to associate keys with values, great for lookups.\n",
    "my_dict = {\n",
    "    'name': 'Alice',\n",
    "    'age': 30,\n",
    "    'city': 'New York'\n",
    "}\n",
    "print(my_dict)"
   ]
  },
  {
   "cell_type": "code",
   "execution_count": 16,
   "id": "095fea73",
   "metadata": {},
   "outputs": [
    {
     "name": "stdout",
     "output_type": "stream",
     "text": [
      "{'name': 'Alice', 'age': 30, 'city': 'New York', 'street': '123 Main St'}\n",
      "{'name': 'Alice', 'age': 30, 'city': 'New York', 'street': '123 Main St', 'email': 'alice@example.com', 'phone': '123-456-7890'}\n",
      "{'name': 'Alice', 'city': 'New York', 'street': '123 Main St', 'email': 'alice@example.com', 'phone': '123-456-7890'}\n",
      "{'name': 'Alice', 'city': 'New York', 'street': '123 Main St', 'email': 'alice@example.com'}\n"
     ]
    }
   ],
   "source": [
    "my_dict['street'] = '123 Main St'  # dict[key] = value → add/update item\n",
    "print(my_dict)\n",
    "my_dict.update({'email': 'alice@example.com', 'phone': '123-456-7890'}) # update({k:v}) → add multiple items\n",
    "print(my_dict)\n",
    "my_dict.pop('age')  # pop(key) → remove by key\n",
    "print(my_dict)\n",
    "my_dict.popitem()  # popitem() → remove last inserted key-value pair\n",
    "print(my_dict)"
   ]
  },
  {
   "cell_type": "markdown",
   "id": "6a458d73",
   "metadata": {},
   "source": [
    "Conditional statement: Use when we have condition like if it is rain outside i carry a umbrella expect i don't carry.Conditional statements change the sequence of program execution based on conditions.\n",
    "\n",
    "Python provides three main conditional statements:\n",
    "\n",
    "if\n",
    "else\n",
    "elif\n"
   ]
  },
  {
   "cell_type": "code",
   "execution_count": 32,
   "id": "2e0941d8",
   "metadata": {},
   "outputs": [
    {
     "name": "stdout",
     "output_type": "stream",
     "text": [
      "It's raining, take an umbrella!\n"
     ]
    }
   ],
   "source": [
    "is_raining = True\n",
    "if is_raining:\n",
    "    print(\"It's raining, take an umbrella!\")\n",
    "else:\n",
    "    print(\"It's not raining, no umbrella needed.\")"
   ]
  },
  {
   "cell_type": "code",
   "execution_count": 5,
   "id": "40d38b68",
   "metadata": {},
   "outputs": [
    {
     "name": "stdout",
     "output_type": "stream",
     "text": [
      "Pakistan won the match!\n",
      "Yayy! let's celebrate!\n"
     ]
    }
   ],
   "source": [
    "pakistan_won = True\n",
    "if pakistan_won == True:\n",
    "    print(\"Pakistan won the match!\")\n",
    "    print(\"Yayy! let's celebrate!\")\n",
    "else:\n",
    "    print(\"Pakistan lost the match. Better luck next time!\")   \n"
   ]
  },
  {
   "cell_type": "code",
   "execution_count": 7,
   "id": "f8abe8e8",
   "metadata": {},
   "outputs": [
    {
     "name": "stdout",
     "output_type": "stream",
     "text": [
      "Pakistan won the match!\n"
     ]
    }
   ],
   "source": [
    "# All condition are checked one by one if a condition is met it will not check the other condition. \n",
    "# Otherwise it will print else statement. When all the condition are false it will print else statement.\n",
    "if pakistan_won == True:\n",
    "    print(\"Pakistan won the match!\")\n",
    "elif pakistan_won == False:\n",
    "    print(\"Pakistan lost the match. Better luck next time!\")   \n",
    "else:\n",
    "    print(\"Match was a draw.\")"
   ]
  },
  {
   "cell_type": "code",
   "execution_count": null,
   "id": "431557d3",
   "metadata": {},
   "outputs": [
    {
     "name": "stdout",
     "output_type": "stream",
     "text": [
      "It's raining but not snowing, take an umbrella!\n"
     ]
    }
   ],
   "source": [
    "# Nested if statement\n",
    "# An if statement inside another if statement is called a nested if statement.\n",
    "is_snowing = False\n",
    "if is_raining == True:\n",
    "    if is_snowing == True:\n",
    "        print(\"It's raining and snowing, stay indoors!\")\n",
    "    else:\n",
    "        print(\"It's raining but not snowing, take an umbrella!\")\n",
    "else:\n",
    "    print(\"It's not raining and no snowing, you can go outside!\")"
   ]
  },
  {
   "cell_type": "code",
   "execution_count": null,
   "id": "ea7c6262",
   "metadata": {},
   "outputs": [
    {
     "name": "stdout",
     "output_type": "stream",
     "text": [
      "It's not sunny, it might be cloudy or rainy.\n"
     ]
    }
   ],
   "source": [
    "# Logical Operators: and, or, not in conditional statements. \n",
    "# If we want to check multiple conditions in a single if statement, we can use logical operators like and, or, and not. \n",
    "is_raining = False\n",
    "is_sunny = False\n",
    "is_smoke = False\n",
    "if is_raining and is_sunny: # If we want to check if two conditions are true, we can use the and operator. \n",
    "    print(\"It's raining and sunny, you might see a rainbow!\")\n",
    "elif is_raining or is_smoke: # If we want to check if at least one condition is true, we can use the or operator. \n",
    "    print(\"It's either raining or smoky, be cautious!\")\n",
    "elif not is_sunny: # If we want to invert a condition, we can use the not operator.\n",
    "    print(\"It's not sunny, it might be cloudy or rainy.\")\n",
    "else:\n",
    "    print('No rainbow')"
   ]
  },
  {
   "cell_type": "markdown",
   "id": "56cb7012",
   "metadata": {},
   "source": [
    "# Functions in python: If we want to reuse a block of code multiple times, we can define a function.A function is a block of code that performs a specific task and can be called multiple times."
   ]
  },
  {
   "cell_type": "code",
   "execution_count": null,
   "id": "18334ce9",
   "metadata": {},
   "outputs": [],
   "source": [
    "# There are two types of functions in python\n",
    "# 1. Built-in functions: These are functions that are already defined in python, like print(), input(), len(), type(), etc.\n",
    "# 2. User-defined functions: These are functions that we define ourselves using the def keyword\n",
    "# Functions can take inputs, called parameters, and can return outputs using the return statement."
   ]
  },
  {
   "cell_type": "code",
   "execution_count": 48,
   "id": "1ed49cd8",
   "metadata": {},
   "outputs": [
    {
     "name": "stdout",
     "output_type": "stream",
     "text": [
      "Hello, World!\n",
      "5\n",
      "<class 'int'>\n",
      "[(0, 'a'), (1, 'b'), (2, 'c')]\n",
      "[0, 1, 2, 3, 4]\n",
      "10\n",
      "15\n",
      "[1, 2, 3, 4]\n",
      "1\n",
      "3\n",
      "3.14\n",
      "Help on built-in function print in module builtins:\n",
      "\n",
      "print(...)\n",
      "    print(value, ..., sep=' ', end='\\n', file=sys.stdout, flush=False)\n",
      "    \n",
      "    Prints the values to a stream, or to sys.stdout by default.\n",
      "    Optional keyword arguments:\n",
      "    file:  a file-like object (stream); defaults to the current sys.stdout.\n",
      "    sep:   string inserted between values, default a space.\n",
      "    end:   string appended after the last value, default a newline.\n",
      "    flush: whether to forcibly flush the stream.\n",
      "\n"
     ]
    }
   ],
   "source": [
    "# Here's are top build-in functions in python\n",
    "print(\"Hello, World!\")  # print() → outputs text to the console\n",
    "input(\"Enter something: \")  # input() → gets user input as a string\n",
    "print(len(\"Hello\"))  # len() → returns the length of a string or collection\n",
    "print(type(123))  # type() → returns the data type of a variable or value\n",
    "print(list(enumerate(['a', 'b', 'c'])))  # enumerate() → returns an enumerate object, which contains pairs of index and value from the input collection\n",
    "print(list(range(5)))  # range() → generates a sequence of numbers, often used in for\n",
    "print(abs(-10))  # abs() → returns the absolute value of a number\n",
    "print(sum([1, 2, 3, 4, 5]))  # sum\n",
    "print(sorted([3, 1, 4, 2]))  # sorted() → returns a new sorted list from the elements of any iterable\n",
    "print(min(1, 2, 3))  # min() → returns the smallest item\n",
    "print(max(1, 2, 3))  # max() → returns the largest item\n",
    "print(round(3.14159, 2))  # round() → rounds a floating-point\n",
    "help(print)  # help() → invokes the built-in help system\n"
   ]
  },
  {
   "cell_type": "code",
   "execution_count": 53,
   "id": "90df5625",
   "metadata": {},
   "outputs": [
    {
     "name": "stdout",
     "output_type": "stream",
     "text": [
      "Hello, Zayn!\n"
     ]
    }
   ],
   "source": [
    "# Let's define a simple user-defined function\n",
    "def greet(name):\n",
    "    print(f\"Hello, {name}!\")  # f-string for formatted output\n",
    "\n",
    "(greet(\"Zayn\"))  # Call the function with an argument"
   ]
  },
  {
   "cell_type": "code",
   "execution_count": 57,
   "id": "687598d8",
   "metadata": {},
   "outputs": [
    {
     "name": "stdout",
     "output_type": "stream",
     "text": [
      "first value: 5\n",
      "second value: 3\n",
      "8\n"
     ]
    }
   ],
   "source": [
    "# When we use return statement in a function, it will return the value to the caller and exit the function. \n",
    "# And the code after return statement will not be executed. We have to print the return value.\n",
    "def add(a, b):\n",
    "    print('first value:', a)\n",
    "    print('second value:', b)\n",
    "    return a + b  # Return the sum of a and b\n",
    "print(add(5, 3))  # Call the function with two arguments"
   ]
  },
  {
   "cell_type": "code",
   "execution_count": 59,
   "id": "68131da5",
   "metadata": {},
   "outputs": [
    {
     "name": "stdout",
     "output_type": "stream",
     "text": [
      "Hello, welcome to Python functions!\n"
     ]
    }
   ],
   "source": [
    "def greet():\n",
    "    print(\"Hello, welcome to Python functions!\")\n",
    "greet()  # Call the function"
   ]
  },
  {
   "cell_type": "code",
   "execution_count": 61,
   "id": "0f4b81b9",
   "metadata": {},
   "outputs": [
    {
     "name": "stdout",
     "output_type": "stream",
     "text": [
      "Name: Alice\n",
      "Age: 30\n",
      "City: New York\n",
      "Name: Bob\n",
      "Age: 25\n",
      "City: Unknown\n"
     ]
    }
   ],
   "source": [
    "# Here are some Arguments and Parameters in Python functions\n",
    "# default arguments: allow you to specify default values for parameters in case no argument is provided during the function call.\n",
    "def describe_person(name, age, city=\"Unknown\"):\n",
    "    \"\"\"Describe a person with their name, age, and city.\"\"\"\n",
    "    print(f\"Name: {name}\")\n",
    "    print(f\"Age: {age}\")\n",
    "    print(f\"City: {city}\")\n",
    "describe_person(\"Alice\", 30, \"New York\")  # All arguments provided\n",
    "describe_person(\"Bob\", 25)  # City will use default value \"Unknown\""
   ]
  },
  {
   "cell_type": "code",
   "execution_count": 65,
   "id": "3890a534",
   "metadata": {},
   "outputs": [
    {
     "name": "stdout",
     "output_type": "stream",
     "text": [
      "I have a Buddy.\n",
      "My Buddy's name is cat.\n",
      "I have a parrot.\n",
      "My parrot's name is Polly.\n"
     ]
    }
   ],
   "source": [
    "# Keyword arguments: allow you to specify arguments by the parameter name, making the function call more readable and allowing arguments to be passed in any order.\n",
    "def describe_pet(animal_type=\"dog\", pet_name=\"Unknown\"):\n",
    "    \"\"\"Describe a pet with its name and type.\"\"\"\n",
    "    print(f\"I have a {animal_type}.\")\n",
    "    print(f\"My {animal_type}'s name is {pet_name}.\")\n",
    "describe_pet(\"Buddy\", \"cat\")  # Positional arguments\n",
    "describe_pet(animal_type=\"parrot\", pet_name=\"Polly\")  # Keyword arguments: we call by keyword"
   ]
  },
  {
   "cell_type": "code",
   "execution_count": 66,
   "id": "ae300c39",
   "metadata": {},
   "outputs": [
    {
     "name": "stdout",
     "output_type": "stream",
     "text": [
      "1\n",
      "2\n",
      "3\n",
      "4\n",
      "5\n"
     ]
    }
   ],
   "source": [
    "# Variable Length arguments: allow you to pass a variable number of arguments to a function. \n",
    "# In case when we don't know how many arguments will be passed to the function, we can use variable length arguments.\n",
    "def print_numbers(*args):\n",
    "    \"\"\"Print all numbers passed as arguments.\"\"\"\n",
    "    for num in args:\n",
    "        print(num)\n",
    "print_numbers(1, 2, 3)  # Three positional arguments\n",
    "print_numbers(4, 5)  # Two positional arguments"
   ]
  },
  {
   "cell_type": "markdown",
   "id": "a0c9aa00",
   "metadata": {},
   "source": [
    "# **Let's talk about the deference between loacal and global variables in Python functions.**\n",
    "## *Local variables: are defined inside a function and can only be accessed within that function.*\n",
    "## Global variables: are defined outside any function and can be accessed from anywhere in the code, including inside functions."
   ]
  },
  {
   "cell_type": "code",
   "execution_count": 69,
   "id": "473397c1",
   "metadata": {},
   "outputs": [
    {
     "name": "stdout",
     "output_type": "stream",
     "text": [
      "I am a local variable\n",
      "I am a global variable\n",
      "I am a global variable\n"
     ]
    }
   ],
   "source": [
    "# Let's talk about the deference between loacal and global variables in Python functions.\n",
    "# Local variables: are defined inside a function and can only be accessed within that function.\n",
    "# Global variables: are defined outside any function and can be accessed from anywhere in the code, including inside functions.\n",
    "global_var = \"I am a global variable\"\n",
    "def my_function():\n",
    "    local_var = \"I am a local variable\"\n",
    "    print(local_var)  # This will work, as local_var is defined within this function\n",
    "    print(global_var)  # This will also work, as global_var is accessible here\n",
    "my_function()\n",
    "print(global_var)  # This will work, as global_var is defined outside the function \n",
    "# print(local_var)  # This will raise a NameError, as local_var is not defined outside the function"
   ]
  },
  {
   "cell_type": "code",
   "execution_count": 79,
   "id": "46ab50e7",
   "metadata": {},
   "outputs": [
    {
     "name": "stdout",
     "output_type": "stream",
     "text": [
      "This is the outer function. 10\n",
      "This is the inner function. 20 10 30\n"
     ]
    }
   ],
   "source": [
    "# Nested functions: are functions defined inside another function.\n",
    "G = 30\n",
    "def outer_function():\n",
    "    c = 10 # local variable of outer_function\n",
    "    print(\"This is the outer function.\", c)\n",
    "    def inner_function():\n",
    "        v = 20  # local variable of inner_function\n",
    "        print(\"This is the inner function.\", v, c, G) # inner_function can access variables from outer_function and global scope\n",
    "    inner_function()  # Call the inner function within the outer function\n",
    "outer_function()  # Call the outer function"
   ]
  },
  {
   "cell_type": "code",
   "execution_count": 80,
   "id": "6e1e5fc6",
   "metadata": {},
   "outputs": [
    {
     "name": "stdout",
     "output_type": "stream",
     "text": [
      "Count inside function: 1\n",
      "Count outside function: 1\n"
     ]
    }
   ],
   "source": [
    "count = 0\n",
    "def increment():\n",
    "    global count  # Declare count as a global variable\n",
    "    count += 1\n",
    "    print(\"Count inside function:\", count)\n",
    "increment()  # Call the function to increment count\n",
    "print(\"Count outside function:\", count)  # Access the global count variable"
   ]
  },
  {
   "cell_type": "code",
   "execution_count": 82,
   "id": "d4762596",
   "metadata": {},
   "outputs": [
    {
     "name": "stdout",
     "output_type": "stream",
     "text": [
      "True\n",
      "True\n",
      "False\n",
      "True\n"
     ]
    }
   ],
   "source": [
    "# Now discuss about the is and == difference\n",
    "# 'is' checks for identity (whether two references point to the same object in memory)\n",
    "# '==' checks for equality (whether the values of two objects are the same)\n",
    "a = [1, 2, 3]\n",
    "b = a  # b references the same list as a\n",
    "print(a is b)  # True, because a and b point to the same object\n",
    "print(a == b)  # True, because a and b have the same value\n",
    "c = [1, 2, 3]\n",
    "print(a is c)  # False, because a and c point to different objects\n",
    "print(a == c)  # True, because a and c have the same value"
   ]
  },
  {
   "cell_type": "code",
   "execution_count": 83,
   "id": "e9258aac",
   "metadata": {},
   "outputs": [],
   "source": [
    "# Higher-order functions are functions that can take other functions as arguments or return them as results. Like a boss order a employee to do a task.\n",
    "# Here are some higher-order functions in Python. 1. Map, 2. Filter, 3. Reduce, 4. Zip \n"
   ]
  },
  {
   "cell_type": "code",
   "execution_count": 84,
   "id": "f9a2450e",
   "metadata": {},
   "outputs": [
    {
     "name": "stdout",
     "output_type": "stream",
     "text": [
      "[1, 4, 9, 16, 25]\n"
     ]
    }
   ],
   "source": [
    "# Map is a higher-order function that applies a given function to each item in an iterable (like a list) and returns a map object (which is an iterator).\n",
    "# The map object can be converted to a list or other collection types.\n",
    "def square(x):\n",
    "    return x * x\n",
    "squared_numbers = map(square, [1, 2, 3, 4, 5])  # Apply square function to each item in the list\n",
    "print(list(squared_numbers))  # Convert map object to list and print the squared numbers\n"
   ]
  },
  {
   "cell_type": "code",
   "execution_count": 85,
   "id": "f0cbb799",
   "metadata": {},
   "outputs": [
    {
     "name": "stdout",
     "output_type": "stream",
     "text": [
      "[2, 4]\n"
     ]
    }
   ],
   "source": [
    "# Filter is a higher-order function that constructs an iterator from elements of an iterable for which a function returns true.\n",
    "# The filter object can be converted to a list or other collection types.\n",
    "def is_even(x):\n",
    "    return x % 2 == 0  \n",
    "even_numbers = filter(is_even, [1, 2, 3, 4, 5])  # Apply is_even function to filter even numbers\n",
    "print(list(even_numbers))  # Convert filter object to list and print the even numbers"
   ]
  },
  {
   "cell_type": "code",
   "execution_count": 86,
   "id": "0c33a05e",
   "metadata": {},
   "outputs": [
    {
     "name": "stdout",
     "output_type": "stream",
     "text": [
      "15\n"
     ]
    }
   ],
   "source": [
    "# Reduce is a higher-order function that applies a binary function cumulatively to the items of an iterable, reducing the iterable to a single value.\n",
    "from functools import reduce\n",
    "def add(x, y):\n",
    "    return x + y\n",
    "result = reduce(add, [1, 2, 3, 4, 5])  # Apply add function cumulatively to the list\n",
    "print(result)  # Print the final reduced value"
   ]
  },
  {
   "cell_type": "code",
   "execution_count": 87,
   "id": "cdc09d9e",
   "metadata": {},
   "outputs": [
    {
     "name": "stdout",
     "output_type": "stream",
     "text": [
      "[(1, 'a'), (2, 'b'), (3, 'c')]\n"
     ]
    }
   ],
   "source": [
    "# Zip is a higher-order function that takes multiple iterables (like lists or tuples) and aggregates them into tuples based on their positions.\n",
    "list1 = [1, 2, 3]\n",
    "list2 = ['a', 'b', 'c']\n",
    "zipped = zip(list1, list2)  # Zip the two lists together\n",
    "print(list(zipped))  # Convert zip object to list and print the zipped result"
   ]
  },
  {
   "cell_type": "code",
   "execution_count": 88,
   "id": "82ce4693",
   "metadata": {},
   "outputs": [
    {
     "name": "stdout",
     "output_type": "stream",
     "text": [
      "8\n"
     ]
    }
   ],
   "source": [
    "# Lambda functions: are small anonymous functions defined using the lambda keyword. They can take any number of arguments but can only have one expression.\n",
    "# Lambda functions are often used as arguments to higher-order functions like map(), filter(), and reduce\n",
    "add = lambda x, y: x + y  # Define a lambda function to add two numbers\n",
    "print(add(3, 5))  # Call the lambda function with two arguments"
   ]
  },
  {
   "cell_type": "code",
   "execution_count": null,
   "id": "baa810b3",
   "metadata": {},
   "outputs": [],
   "source": []
  }
 ],
 "metadata": {
  "kernelspec": {
   "display_name": "myenv",
   "language": "python",
   "name": "python3"
  },
  "language_info": {
   "codemirror_mode": {
    "name": "ipython",
    "version": 3
   },
   "file_extension": ".py",
   "mimetype": "text/x-python",
   "name": "python",
   "nbconvert_exporter": "python",
   "pygments_lexer": "ipython3",
   "version": "3.10.18"
  }
 },
 "nbformat": 4,
 "nbformat_minor": 5
}
